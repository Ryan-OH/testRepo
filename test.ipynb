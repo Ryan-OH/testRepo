{
 "cells": [
  {
   "cell_type": "code",
   "execution_count": 2,
   "metadata": {},
   "outputs": [
    {
     "name": "stdout",
     "output_type": "stream",
     "text": [
      "뉴비는 넘모 어려워요...\n",
      "그래도 따라갈수 있게 설명해 주셔서 감사합니다\n"
     ]
    }
   ],
   "source": [
    "print('뉴비는 넘모 어려워요...')\n",
    "print('그래도 따라갈수 있게 설명해 주셔서 감사합니다')"
   ]
  },
  {
   "cell_type": "markdown",
   "metadata": {},
   "source": [
    "print('드디어 문제 해결을 해냈습니다.')\n",
    "print('나이스 이제 파이썬 걸음마 시작')"
   ]
  }
 ],
 "metadata": {
  "kernelspec": {
   "display_name": "Python 3",
   "language": "python",
   "name": "python3"
  },
  "language_info": {
   "codemirror_mode": {
    "name": "ipython",
    "version": 3
   },
   "file_extension": ".py",
   "mimetype": "text/x-python",
   "name": "python",
   "nbconvert_exporter": "python",
   "pygments_lexer": "ipython3",
   "version": "3.13.1"
  }
 },
 "nbformat": 4,
 "nbformat_minor": 2
}
